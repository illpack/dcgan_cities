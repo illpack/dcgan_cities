{
 "cells": [
  {
   "cell_type": "code",
   "execution_count": 1,
   "metadata": {},
   "outputs": [],
   "source": [
    "import pandas as pd, numpy as np\n",
    "import matplotlib.pyplot as plt\n",
    "import geopandas as gpd\n",
    "import osmnx as ox"
   ]
  },
  {
   "cell_type": "code",
   "execution_count": 2,
   "metadata": {},
   "outputs": [],
   "source": [
    "# configure the inline image display\n",
    "img_folder = 'images'\n",
    "extension = 'png'\n",
    "size = 254\n",
    "dpi = 72"
   ]
  },
  {
   "cell_type": "code",
   "execution_count": 3,
   "metadata": {},
   "outputs": [],
   "source": [
    "df = pd.read_csv('C:/My Documents/Downloads/foursquare/dataset_TIST2015_Cities.txt',\n",
    "                 sep='\\t')\n",
    "df.columns = ['city', 'lat', 'lon', 'code', 'country', 'type']"
   ]
  },
  {
   "cell_type": "code",
   "execution_count": 4,
   "metadata": {},
   "outputs": [
    {
     "data": {
      "text/html": [
       "<div>\n",
       "<style scoped>\n",
       "    .dataframe tbody tr th:only-of-type {\n",
       "        vertical-align: middle;\n",
       "    }\n",
       "\n",
       "    .dataframe tbody tr th {\n",
       "        vertical-align: top;\n",
       "    }\n",
       "\n",
       "    .dataframe thead th {\n",
       "        text-align: right;\n",
       "    }\n",
       "</style>\n",
       "<table border=\"1\" class=\"dataframe\">\n",
       "  <thead>\n",
       "    <tr style=\"text-align: right;\">\n",
       "      <th></th>\n",
       "      <th>city</th>\n",
       "      <th>lat</th>\n",
       "      <th>lon</th>\n",
       "      <th>code</th>\n",
       "      <th>country</th>\n",
       "      <th>type</th>\n",
       "    </tr>\n",
       "  </thead>\n",
       "  <tbody>\n",
       "    <tr>\n",
       "      <th>0</th>\n",
       "      <td>Brasilia</td>\n",
       "      <td>-15.792111</td>\n",
       "      <td>-47.897748</td>\n",
       "      <td>BR</td>\n",
       "      <td>Brazil</td>\n",
       "      <td>National and provincial capital</td>\n",
       "    </tr>\n",
       "    <tr>\n",
       "      <th>1</th>\n",
       "      <td>Goiania</td>\n",
       "      <td>-16.727004</td>\n",
       "      <td>-49.255001</td>\n",
       "      <td>BR</td>\n",
       "      <td>Brazil</td>\n",
       "      <td>Provincial capital</td>\n",
       "    </tr>\n",
       "    <tr>\n",
       "      <th>2</th>\n",
       "      <td>Campo Grande</td>\n",
       "      <td>-20.450997</td>\n",
       "      <td>-54.615996</td>\n",
       "      <td>BR</td>\n",
       "      <td>Brazil</td>\n",
       "      <td>Provincial capital</td>\n",
       "    </tr>\n",
       "    <tr>\n",
       "      <th>3</th>\n",
       "      <td>Puerto Presidente Stroessner</td>\n",
       "      <td>-25.526997</td>\n",
       "      <td>-54.622997</td>\n",
       "      <td>PY</td>\n",
       "      <td>Paraguay</td>\n",
       "      <td>Provincial capital</td>\n",
       "    </tr>\n",
       "    <tr>\n",
       "      <th>4</th>\n",
       "      <td>Talca</td>\n",
       "      <td>-35.423001</td>\n",
       "      <td>-71.659998</td>\n",
       "      <td>CL</td>\n",
       "      <td>Chile</td>\n",
       "      <td>Provincial capital</td>\n",
       "    </tr>\n",
       "  </tbody>\n",
       "</table>\n",
       "</div>"
      ],
      "text/plain": [
       "                           city        lat        lon code   country  \\\n",
       "0                      Brasilia -15.792111 -47.897748   BR    Brazil   \n",
       "1                       Goiania -16.727004 -49.255001   BR    Brazil   \n",
       "2                  Campo Grande -20.450997 -54.615996   BR    Brazil   \n",
       "3  Puerto Presidente Stroessner -25.526997 -54.622997   PY  Paraguay   \n",
       "4                         Talca -35.423001 -71.659998   CL     Chile   \n",
       "\n",
       "                              type  \n",
       "0  National and provincial capital  \n",
       "1               Provincial capital  \n",
       "2               Provincial capital  \n",
       "3               Provincial capital  \n",
       "4               Provincial capital  "
      ]
     },
     "execution_count": 4,
     "metadata": {},
     "output_type": "execute_result"
    }
   ],
   "source": [
    "df.head()"
   ]
  },
  {
   "cell_type": "code",
   "execution_count": 9,
   "metadata": {},
   "outputs": [
    {
     "name": "stdout",
     "output_type": "stream",
     "text": [
      "DOOOONE\n"
     ]
    }
   ],
   "source": [
    "outF = open(\"./labels__new.csv\", \"a\")\n",
    "\n",
    "for idx in range(len(df)):\n",
    "    group = df.iloc[idx]['city'].replace('-','_').replace('.', '_').strip()\n",
    "    lon = df.iloc[idx]['lon']\n",
    "    lat = df.iloc[idx]['lat']\n",
    "    point=(lon, lat)\n",
    "    try: \n",
    "        fig, ax = ox.plot_figure_ground(point=(lat, lon), \n",
    "                                        bgcolor='#000000',\n",
    "                                        network_type='all',\n",
    "                                        default_width=3,\n",
    "                                        dpi=dpi,\n",
    "                                        filename='./_{}'.format(group),\n",
    "                                        show=False)\n",
    "        outF.write('_' + group + ',' + str(lon) + ',' + str(lat))\n",
    "        outF.write(\"\\n\")\n",
    "    except Exception as e:\n",
    "        print('ERROR\\n')\n",
    "        pass\n",
    "print('DONE')\n",
    "outF.close()"
   ]
  }
 ],
 "metadata": {
  "anaconda-cloud": {},
  "kernelspec": {
   "display_name": "Python [conda env:Anaconda3]",
   "language": "python",
   "name": "conda-env-Anaconda3-py"
  },
  "language_info": {
   "codemirror_mode": {
    "name": "ipython",
    "version": 3
   },
   "file_extension": ".py",
   "mimetype": "text/x-python",
   "name": "python",
   "nbconvert_exporter": "python",
   "pygments_lexer": "ipython3",
   "version": "3.5.5"
  }
 },
 "nbformat": 4,
 "nbformat_minor": 2
}

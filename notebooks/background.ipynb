{
 "cells": [
  {
   "cell_type": "markdown",
   "metadata": {},
   "source": [
    "Downloading images from OSM\n",
    "---\n",
    "\n",
    "Thanks to osmnx"
   ]
  },
  {
   "cell_type": "code",
   "execution_count": 2,
   "metadata": {},
   "outputs": [],
   "source": [
    "import pandas as pd, numpy as np\n",
    "import matplotlib.pyplot as plt\n",
    "import geopandas as gpd\n",
    "import osmnx as ox"
   ]
  },
  {
   "cell_type": "code",
   "execution_count": 3,
   "metadata": {},
   "outputs": [],
   "source": [
    "# configure the inline image display\n",
    "img_folder = 'images'\n",
    "extension = 'png'\n",
    "size = 254\n",
    "dpi = 72"
   ]
  },
  {
   "cell_type": "code",
   "execution_count": null,
   "metadata": {},
   "outputs": [],
   "source": [
    "df = pd.read_csv('./db.csv')"
   ]
  },
  {
   "cell_type": "code",
   "execution_count": 27,
   "metadata": {},
   "outputs": [
    {
     "data": {
      "text/html": [
       "<div>\n",
       "<style scoped>\n",
       "    .dataframe tbody tr th:only-of-type {\n",
       "        vertical-align: middle;\n",
       "    }\n",
       "\n",
       "    .dataframe tbody tr th {\n",
       "        vertical-align: top;\n",
       "    }\n",
       "\n",
       "    .dataframe thead th {\n",
       "        text-align: right;\n",
       "    }\n",
       "</style>\n",
       "<table border=\"1\" class=\"dataframe\">\n",
       "  <thead>\n",
       "    <tr style=\"text-align: right;\">\n",
       "      <th></th>\n",
       "      <th>ogc_fid</th>\n",
       "      <th>city</th>\n",
       "      <th>st_astext</th>\n",
       "    </tr>\n",
       "  </thead>\n",
       "  <tbody>\n",
       "    <tr>\n",
       "      <th>0</th>\n",
       "      <td>1</td>\n",
       "      <td>Amsterdam</td>\n",
       "      <td>MULTIPOINT Z (4.922454 52.3778 0)</td>\n",
       "    </tr>\n",
       "    <tr>\n",
       "      <th>1</th>\n",
       "      <td>2</td>\n",
       "      <td>Amsterdam</td>\n",
       "      <td>MULTIPOINT Z (4.941598 52.373272 0)</td>\n",
       "    </tr>\n",
       "    <tr>\n",
       "      <th>2</th>\n",
       "      <td>3</td>\n",
       "      <td>Amsterdam</td>\n",
       "      <td>MULTIPOINT Z (4.873884 52.386222 0)</td>\n",
       "    </tr>\n",
       "    <tr>\n",
       "      <th>3</th>\n",
       "      <td>4</td>\n",
       "      <td>Amsterdam</td>\n",
       "      <td>MULTIPOINT Z (4.934852 52.374276 0)</td>\n",
       "    </tr>\n",
       "    <tr>\n",
       "      <th>4</th>\n",
       "      <td>5</td>\n",
       "      <td>Amsterdam</td>\n",
       "      <td>MULTIPOINT Z (4.914172 52.377852 0)</td>\n",
       "    </tr>\n",
       "  </tbody>\n",
       "</table>\n",
       "</div>"
      ],
      "text/plain": [
       "   ogc_fid       city                            st_astext\n",
       "0        1  Amsterdam    MULTIPOINT Z (4.922454 52.3778 0)\n",
       "1        2  Amsterdam  MULTIPOINT Z (4.941598 52.373272 0)\n",
       "2        3  Amsterdam  MULTIPOINT Z (4.873884 52.386222 0)\n",
       "3        4  Amsterdam  MULTIPOINT Z (4.934852 52.374276 0)\n",
       "4        5  Amsterdam  MULTIPOINT Z (4.914172 52.377852 0)"
      ]
     },
     "execution_count": 27,
     "metadata": {},
     "output_type": "execute_result"
    }
   ],
   "source": [
    "# gdf = gpd.GeoDataFrame(df, geometry = 'wkb_geometry') ; \n",
    "df.head()"
   ]
  },
  {
   "cell_type": "code",
   "execution_count": 6,
   "metadata": {},
   "outputs": [],
   "source": [
    "from shapely import wkt\n",
    "def getCoords(df, x) : return tuple(np.array(wkt.loads(df.iloc[x]['st_astext'])[0].xy).squeeze())\n",
    "\n",
    "def getLonLat(df, idx):\n",
    "    if 'MULTI' in df.iloc[idx]['st_astext']:\n",
    "        wktcoords = wkt.loads(df.iloc[idx]['st_astext'])[0]\n",
    "    else: \n",
    "        wktcoords = wkt.loads(df.iloc[idx]['st_astext'])\n",
    "    return wktcoords.x, wktcoords.y"
   ]
  },
  {
   "cell_type": "code",
   "execution_count": 7,
   "metadata": {},
   "outputs": [],
   "source": [
    "gb = df.groupby('city')"
   ]
  },
  {
   "cell_type": "code",
   "execution_count": 11,
   "metadata": {},
   "outputs": [],
   "source": [
    "outF = open(\"./labels__new.csv\", \"w\")\n",
    "outF.write('label,lon,lat')\n",
    "outF.write(\"\\n\")\n",
    "\n",
    "for group, data in gb:\n",
    "    gf = pd.DataFrame(gb.get_group(group))\n",
    "    for idx in range(len(gf)):\n",
    "        place = group\n",
    "        point = getCoords(gf, idx)[::-1]\n",
    "        ogc = gf.iloc[idx]['ogc_fid']\n",
    "        try: \n",
    "            label = group + '_' + str(idx+1) + '_' + str(ogc)\n",
    "            fig, ax = ox.plot_figure_ground(point=point, \n",
    "                                            bgcolor='#000000',\n",
    "                                            network_type='all',\n",
    "                                            default_width=3,\n",
    "                                            dpi=dpi,\n",
    "                                            filename='./{}.png'.format(label),\n",
    "                                            show=False)\n",
    "            outF.write(str(label) + ',' + str(point[0]) + ',' + str(point[1]))\n",
    "            outF.write(\"\\n\")\n",
    "        except Exception as e:\n",
    "            print(e)\n",
    "            pass\n",
    "outF.close()"
   ]
  },
  {
   "cell_type": "markdown",
   "metadata": {},
   "source": [
    "If you forgot labels... well, get'em back!"
   ]
  },
  {
   "cell_type": "code",
   "execution_count": 48,
   "metadata": {},
   "outputs": [],
   "source": [
    "import os\n",
    "import re"
   ]
  },
  {
   "cell_type": "code",
   "execution_count": 69,
   "metadata": {},
   "outputs": [],
   "source": [
    "pat = r'^(\\w\\w)_(\\d)'"
   ]
  },
  {
   "cell_type": "code",
   "execution_count": 80,
   "metadata": {},
   "outputs": [],
   "source": [
    "img_labels = []\n",
    "country_set =[]\n",
    "for file in os.listdir('./_project/images/'):\n",
    "    match = re.search(pat, str(file))\n",
    "    if match:\n",
    "        if match.group(1) == match.group(1).upper():\n",
    "            img_labels.append(file.replace('.png', ''))\n",
    "            country_set.append(match.group(1))"
   ]
  },
  {
   "cell_type": "code",
   "execution_count": 81,
   "metadata": {},
   "outputs": [
    {
     "data": {
      "text/plain": [
       "2484"
      ]
     },
     "execution_count": 81,
     "metadata": {},
     "output_type": "execute_result"
    }
   ],
   "source": [
    "len(img_labels)"
   ]
  },
  {
   "cell_type": "code",
   "execution_count": 83,
   "metadata": {},
   "outputs": [
    {
     "data": {
      "text/plain": [
       "['BE',\n",
       " 'IN',\n",
       " 'SV',\n",
       " 'VN',\n",
       " 'NL',\n",
       " 'FR',\n",
       " 'GB',\n",
       " 'CL',\n",
       " 'BR',\n",
       " 'IT',\n",
       " 'DE',\n",
       " 'ES',\n",
       " 'MX',\n",
       " 'RO',\n",
       " 'JP']"
      ]
     },
     "execution_count": 83,
     "metadata": {},
     "output_type": "execute_result"
    }
   ],
   "source": [
    "list(set(country_set))"
   ]
  },
  {
   "cell_type": "markdown",
   "metadata": {},
   "source": [
    "Now copy over only the labels that exist in the image list"
   ]
  },
  {
   "cell_type": "code",
   "execution_count": 85,
   "metadata": {},
   "outputs": [],
   "source": [
    "with open(\"./labels_2.csv\", \"r\") as f:\n",
    "    lines = f.readlines()"
   ]
  },
  {
   "cell_type": "code",
   "execution_count": 87,
   "metadata": {},
   "outputs": [],
   "source": [
    "with open(\"./labels_copy.csv\", 'a') as f:\n",
    "    for line in lines:\n",
    "        if line.split(',')[0] in img_labels:\n",
    "            f.write(line)\n",
    "f.close()"
   ]
  }
 ],
 "metadata": {
  "anaconda-cloud": {},
  "kernelspec": {
   "display_name": "Python [conda env:Anaconda3]",
   "language": "python",
   "name": "conda-env-Anaconda3-py"
  },
  "language_info": {
   "codemirror_mode": {
    "name": "ipython",
    "version": 3
   },
   "file_extension": ".py",
   "mimetype": "text/x-python",
   "name": "python",
   "nbconvert_exporter": "python",
   "pygments_lexer": "ipython3",
   "version": "3.5.5"
  }
 },
 "nbformat": 4,
 "nbformat_minor": 2
}
